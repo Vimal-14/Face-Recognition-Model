{
  "metadata": {
    "kernelspec": {
      "language": "python",
      "display_name": "Python 3",
      "name": "python3"
    },
    "language_info": {
      "name": "python",
      "version": "3.10.13",
      "mimetype": "text/x-python",
      "codemirror_mode": {
        "name": "ipython",
        "version": 3
      },
      "pygments_lexer": "ipython3",
      "nbconvert_exporter": "python",
      "file_extension": ".py"
    },
    "kaggle": {
      "accelerator": "none",
      "dataSources": [
        {
          "sourceId": 1732825,
          "sourceType": "datasetVersion",
          "datasetId": 1028436
        }
      ],
      "dockerImageVersionId": 30664,
      "isInternetEnabled": true,
      "language": "python",
      "sourceType": "notebook",
      "isGpuEnabled": false
    },
    "colab": {
      "name": "Emotion Recognition | ResNet50V2",
      "provenance": []
    }
  },
  "nbformat_minor": 0,
  "nbformat": 4,
  "cells": [
    {
      "source": [
        "import os\n",
        "import sys\n",
        "from tempfile import NamedTemporaryFile\n",
        "from urllib.request import urlopen\n",
        "from urllib.parse import unquote, urlparse\n",
        "from urllib.error import HTTPError\n",
        "from zipfile import ZipFile\n",
        "import tarfile\n",
        "import shutil\n",
        "\n",
        "CHUNK_SIZE = 40960\n",
        "DATA_SOURCE_MAPPING = 'emotion-detection-fer:https%3A%2F%2Fstorage.googleapis.com%2Fkaggle-data-sets%2F1028436%2F1732825%2Fbundle%2Farchive.zip%3FX-Goog-Algorithm%3DGOOG4-RSA-SHA256%26X-Goog-Credential%3Dgcp-kaggle-com%2540kaggle-161607.iam.gserviceaccount.com%252F20240605%252Fauto%252Fstorage%252Fgoog4_request%26X-Goog-Date%3D20240605T101130Z%26X-Goog-Expires%3D259200%26X-Goog-SignedHeaders%3Dhost%26X-Goog-Signature%3D95bc18746b57a302613599fdc270b6bbaf23790816e82b285e6424b2b32d7d23539151ca4186164d0fbe04468bc37e28e6497086debf1e8163dfa9f1495d9db50998dddabe8efd8d8dc5b855c9e47bd183280164a32a169d200c67e25dbe8aabeafef08a3e5eee19df40911de70a5a51be4b110b99df3ef111d0c9c9e2d7f6cce33eb95272c86be4801323c5f53e6d14595708d67fae7744ce485ba6727ac10a509a0213862a6c70a7193769f8797f6d502f231f73cb3ec5eef9ca81657cd74c2954b5c4c49f1e4f05a2bed443711c33042080acef1b4029c82c4468bf6ced0b08c263082e86186afc21ffac4563560ad77aa7e1228c59a7098c09b324c4a0d7'\n",
        "\n",
        "KAGGLE_INPUT_PATH='/kaggle/input'\n",
        "KAGGLE_WORKING_PATH='/kaggle/working'\n",
        "KAGGLE_SYMLINK='kaggle'\n",
        "\n",
        "!umount /kaggle/input/ 2> /dev/null\n",
        "shutil.rmtree('/kaggle/input', ignore_errors=True)\n",
        "os.makedirs(KAGGLE_INPUT_PATH, 0o777, exist_ok=True)\n",
        "os.makedirs(KAGGLE_WORKING_PATH, 0o777, exist_ok=True)\n",
        "\n",
        "try:\n",
        "  os.symlink(KAGGLE_INPUT_PATH, os.path.join(\"..\", 'input'), target_is_directory=True)\n",
        "except FileExistsError:\n",
        "  pass\n",
        "try:\n",
        "  os.symlink(KAGGLE_WORKING_PATH, os.path.join(\"..\", 'working'), target_is_directory=True)\n",
        "except FileExistsError:\n",
        "  pass\n",
        "\n",
        "for data_source_mapping in DATA_SOURCE_MAPPING.split(','):\n",
        "    directory, download_url_encoded = data_source_mapping.split(':')\n",
        "    download_url = unquote(download_url_encoded)\n",
        "    filename = urlparse(download_url).path\n",
        "    destination_path = os.path.join(KAGGLE_INPUT_PATH, directory)\n",
        "    try:\n",
        "        with urlopen(download_url) as fileres, NamedTemporaryFile() as tfile:\n",
        "            total_length = fileres.headers['content-length']\n",
        "            print(f'Downloading {directory}, {total_length} bytes compressed')\n",
        "            dl = 0\n",
        "            data = fileres.read(CHUNK_SIZE)\n",
        "            while len(data) > 0:\n",
        "                dl += len(data)\n",
        "                tfile.write(data)\n",
        "                done = int(50 * dl / int(total_length))\n",
        "                sys.stdout.write(f\"\\r[{'=' * done}{' ' * (50-done)}] {dl} bytes downloaded\")\n",
        "                sys.stdout.flush()\n",
        "                data = fileres.read(CHUNK_SIZE)\n",
        "            if filename.endswith('.zip'):\n",
        "              with ZipFile(tfile) as zfile:\n",
        "                zfile.extractall(destination_path)\n",
        "            else:\n",
        "              with tarfile.open(tfile.name) as tarfile:\n",
        "                tarfile.extractall(destination_path)\n",
        "            print(f'\\nDownloaded and uncompressed: {directory}')\n",
        "    except HTTPError as e:\n",
        "        print(f'Failed to load (likely expired) {download_url} to path {destination_path}')\n",
        "        continue\n",
        "    except OSError as e:\n",
        "        print(f'Failed to load {download_url} to path {destination_path}')\n",
        "        continue\n",
        "\n",
        "print('Data source import complete.')\n"
      ],
      "metadata": {
        "id": "z5ReYlWS4c-5"
      },
      "cell_type": "code",
      "outputs": [],
      "execution_count": null
    },
    {
      "cell_type": "markdown",
      "source": [
        "Hello everyone!\n",
        "\n",
        "I've been wanting to work on a project invloving transfer learning and I thought this was the perfect opportunity. I don't have any specific goals in mind so feedback is greatly appreciated"
      ],
      "metadata": {
        "id": "95LjuZzu4c-8"
      }
    },
    {
      "cell_type": "markdown",
      "source": [
        "![WhatsApp Image 2024-03-19 at 18.39.10_97dcc7a9.jpg](attachment:f223573b-e621-4883-b57f-fbec19f2d4a9.jpg)"
      ],
      "metadata": {
        "id": "cLpu14Xb4c--"
      }
    },
    {
      "cell_type": "markdown",
      "source": [
        "## Table of contents\n",
        "\n",
        "1. [Importing the necessary libraries](#libs)\n",
        "2. [Exploring the dataset](#exp)\n",
        "3. [Image data generators and augmentation](#gen)\n",
        "4. [Calculating class weights](#wghts)\n",
        "5. [Transfer learning model design](#des)\n",
        "6. [Model training](#train)\n",
        "7. [Model Evaluation](#eval)\n",
        "8. [Conclusion](#con)"
      ],
      "metadata": {
        "id": "nrm6T5Sm4c--"
      }
    },
    {
      "cell_type": "markdown",
      "source": [
        "## 1| Importing the necessary libraries <a class=\"anchor\" id=\"libs\"></a>"
      ],
      "metadata": {
        "id": "CvY3IOmS4c--"
      }
    },
    {
      "cell_type": "code",
      "source": [
        "import os\n",
        "import numpy as np # linear algebra\n",
        "import pandas as pd # data processing, CSV file I/O (e.g. pd.read_csv)\n",
        "import matplotlib.pyplot as plt\n",
        "import seaborn as sns\n",
        "\n",
        "from tensorflow.keras.preprocessing.image import ImageDataGenerator\n",
        "from tensorflow.keras.layers import BatchNormalization, GlobalAveragePooling2D, Dense, Dropout\n",
        "from tensorflow.keras.models import Sequential\n",
        "from tensorflow.keras.optimizers import Adamax\n",
        "from tensorflow.keras.applications import ResNet50V2\n",
        "from tensorflow.keras.callbacks import EarlyStopping\n",
        "\n",
        "from sklearn.metrics import roc_curve, auc, confusion_matrix, classification_report\n",
        "from sklearn.utils.class_weight import compute_class_weight\n",
        "\n",
        "import warnings\n",
        "warnings.filterwarnings('ignore')"
      ],
      "metadata": {
        "_uuid": "8f2839f25d086af736a60e9eeb907d3b93b6e0e5",
        "_cell_guid": "b1076dfc-b9ad-4769-8c92-a6c4dae69d19",
        "execution": {
          "iopub.status.busy": "2024-03-19T18:18:44.592766Z",
          "iopub.execute_input": "2024-03-19T18:18:44.59339Z",
          "iopub.status.idle": "2024-03-19T18:18:44.600271Z",
          "shell.execute_reply.started": "2024-03-19T18:18:44.593363Z",
          "shell.execute_reply": "2024-03-19T18:18:44.599008Z"
        },
        "trusted": true,
        "id": "mynNsWvx4c-_"
      },
      "execution_count": null,
      "outputs": []
    },
    {
      "cell_type": "markdown",
      "source": [
        "## 2| Exploring the dataset <a class=\"anchor\" id=\"exp\"></a>"
      ],
      "metadata": {
        "id": "Ej1b8ld64c-_"
      }
    },
    {
      "cell_type": "code",
      "source": [
        "train_dir = '/kaggle/input/emotion-detection-fer/train'\n",
        "emotions = os.listdir(train_dir)\n",
        "\n",
        "train_counts = []\n",
        "\n",
        "for emotion in emotions:\n",
        "    folder = os.path.join(train_dir, emotion)\n",
        "    train_counts.append(len(os.listdir(folder)))\n",
        "\n",
        "sns.barplot(x=emotions, y=train_counts, palette='magma')"
      ],
      "metadata": {
        "execution": {
          "iopub.status.busy": "2024-03-19T16:29:01.909266Z",
          "iopub.execute_input": "2024-03-19T16:29:01.909797Z",
          "iopub.status.idle": "2024-03-19T16:29:04.261679Z",
          "shell.execute_reply.started": "2024-03-19T16:29:01.909772Z",
          "shell.execute_reply": "2024-03-19T16:29:04.260824Z"
        },
        "trusted": true,
        "id": "dnls7EW44c-_"
      },
      "execution_count": null,
      "outputs": []
    },
    {
      "cell_type": "code",
      "source": [
        "test_dir = '/kaggle/input/emotion-detection-fer/test'\n",
        "\n",
        "test_counts = []\n",
        "\n",
        "for emotion in emotions:\n",
        "    folder = os.path.join(test_dir, emotion)\n",
        "    test_counts.append(len(os.listdir(folder)))\n",
        "\n",
        "sns.barplot(x=emotions, y=test_counts, palette='magma')"
      ],
      "metadata": {
        "execution": {
          "iopub.status.busy": "2024-03-19T16:29:04.262839Z",
          "iopub.execute_input": "2024-03-19T16:29:04.26309Z",
          "iopub.status.idle": "2024-03-19T16:29:06.621095Z",
          "shell.execute_reply.started": "2024-03-19T16:29:04.263068Z",
          "shell.execute_reply": "2024-03-19T16:29:06.620231Z"
        },
        "trusted": true,
        "id": "mNb9lcdM4c-_"
      },
      "execution_count": null,
      "outputs": []
    },
    {
      "cell_type": "markdown",
      "source": [
        "Seems like we'll have to adjust the class weights to deal with the data imbalance."
      ],
      "metadata": {
        "id": "ec-OHZvV4c_A"
      }
    },
    {
      "cell_type": "code",
      "source": [
        "plt.figure(figsize=(15,10))\n",
        "\n",
        "for i, emotion in enumerate(emotions, 1):\n",
        "    folder = os.path.join(train_dir, emotion)\n",
        "    img_path = os.path.join(folder, os.listdir(folder)[42])\n",
        "    img = plt.imread(img_path)\n",
        "    plt.subplot(3, 4, i)\n",
        "    plt.imshow(img, cmap='gray')\n",
        "    plt.title(emotion)\n",
        "    plt.axis('off')"
      ],
      "metadata": {
        "execution": {
          "iopub.status.busy": "2024-03-19T16:29:06.623472Z",
          "iopub.execute_input": "2024-03-19T16:29:06.623776Z",
          "iopub.status.idle": "2024-03-19T16:29:07.294393Z",
          "shell.execute_reply.started": "2024-03-19T16:29:06.623749Z",
          "shell.execute_reply": "2024-03-19T16:29:07.293356Z"
        },
        "trusted": true,
        "id": "OIOEkTAY4c_B"
      },
      "execution_count": null,
      "outputs": []
    },
    {
      "cell_type": "markdown",
      "source": [
        "## 3| Image data generators and augmentation <a class=\"anchor\" id=\"gen\"></a>"
      ],
      "metadata": {
        "id": "KC8d7B-Z4c_B"
      }
    },
    {
      "cell_type": "code",
      "source": [
        "train_datagen = ImageDataGenerator(\n",
        "    rescale=1/255,\n",
        "    rotation_range=40,\n",
        "    width_shift_range=0.2,\n",
        "    height_shift_range=0.2,\n",
        "    shear_range=0.2,\n",
        "    zoom_range=0.1,\n",
        "    horizontal_flip=True,\n",
        "    fill_mode='nearest'\n",
        ")\n",
        "\n",
        "test_datagen = ImageDataGenerator(\n",
        "    rescale=1/255\n",
        ")\n",
        "\n",
        "train_generator = train_datagen.flow_from_directory(\n",
        "    train_dir,\n",
        "    target_size=(224, 224),\n",
        "    color_mode='rgb',\n",
        "    class_mode='categorical',\n",
        "    batch_size=32\n",
        ")\n",
        "\n",
        "test_generator = test_datagen.flow_from_directory(\n",
        "    test_dir,\n",
        "    target_size=(224, 224),\n",
        "    color_mode='rgb',\n",
        "    class_mode='categorical',\n",
        "    batch_size=32\n",
        ")"
      ],
      "metadata": {
        "execution": {
          "iopub.status.busy": "2024-03-19T16:29:07.295676Z",
          "iopub.execute_input": "2024-03-19T16:29:07.296032Z",
          "iopub.status.idle": "2024-03-19T16:29:26.392031Z",
          "shell.execute_reply.started": "2024-03-19T16:29:07.295997Z",
          "shell.execute_reply": "2024-03-19T16:29:26.390964Z"
        },
        "trusted": true,
        "id": "c472HLy34c_B"
      },
      "execution_count": null,
      "outputs": []
    },
    {
      "cell_type": "markdown",
      "source": [
        "## 4| Calculating class weights <a class=\"anchor\" id=\"wghts\"></a>"
      ],
      "metadata": {
        "id": "udoz42w-4c_C"
      }
    },
    {
      "cell_type": "code",
      "source": [
        "classes = np.array(train_generator.classes)\n",
        "\n",
        "class_weights = compute_class_weight(\n",
        "    class_weight='balanced',\n",
        "    classes=np.unique(classes),\n",
        "    y=classes\n",
        ")\n",
        "\n",
        "class_weights_dict = dict(enumerate(class_weights))\n",
        "class_weights_dict"
      ],
      "metadata": {
        "execution": {
          "iopub.status.busy": "2024-03-19T16:29:26.393119Z",
          "iopub.execute_input": "2024-03-19T16:29:26.393382Z",
          "iopub.status.idle": "2024-03-19T16:29:26.408559Z",
          "shell.execute_reply.started": "2024-03-19T16:29:26.39336Z",
          "shell.execute_reply": "2024-03-19T16:29:26.407645Z"
        },
        "trusted": true,
        "id": "r_F18CML4c_C"
      },
      "execution_count": null,
      "outputs": []
    },
    {
      "cell_type": "markdown",
      "source": [
        "## 5| Transfer learning model design <a class=\"anchor\" id=\"des\"></a>"
      ],
      "metadata": {
        "id": "37fKdi0a4c_C"
      }
    },
    {
      "cell_type": "code",
      "source": [
        "input_shape = (224, 224, 3)\n",
        "\n",
        "base_model = ResNet50V2(include_top=False, weights='imagenet', input_shape=input_shape)\n",
        "\n",
        "model = Sequential([\n",
        "    base_model,\n",
        "    BatchNormalization(),\n",
        "    GlobalAveragePooling2D(),\n",
        "    Dense(512, activation='relu'),\n",
        "    Dropout(0.1),\n",
        "    Dense(256, activation='relu'),\n",
        "    Dropout(0.1),\n",
        "    Dense(128, activation='relu'),\n",
        "    Dropout(0.1),\n",
        "    Dense(7, activation='softmax')\n",
        "])\n",
        "\n",
        "optimizer = Adamax(learning_rate=0.0001)\n",
        "\n",
        "model.compile(optimizer=optimizer, loss='categorical_crossentropy', metrics=['accuracy'])\n",
        "model.summary()"
      ],
      "metadata": {
        "execution": {
          "iopub.status.busy": "2024-03-19T17:10:54.342191Z",
          "iopub.execute_input": "2024-03-19T17:10:54.342531Z",
          "iopub.status.idle": "2024-03-19T17:10:55.428606Z",
          "shell.execute_reply.started": "2024-03-19T17:10:54.342506Z",
          "shell.execute_reply": "2024-03-19T17:10:55.427725Z"
        },
        "trusted": true,
        "id": "WA7kxhZZ4c_C"
      },
      "execution_count": null,
      "outputs": []
    },
    {
      "cell_type": "markdown",
      "source": [
        "## 6| Model training <a class=\"anchor\" id=\"train\"></a>"
      ],
      "metadata": {
        "id": "A3yza0tz4c_C"
      }
    },
    {
      "cell_type": "code",
      "source": [
        "train_history = model.fit(\n",
        "    train_generator,\n",
        "    steps_per_epoch=200,\n",
        "    epochs=50,\n",
        "    validation_data=test_generator,\n",
        "    validation_steps=100,\n",
        "    class_weight=class_weights_dict\n",
        ")"
      ],
      "metadata": {
        "execution": {
          "iopub.status.busy": "2024-03-19T17:10:59.902314Z",
          "iopub.execute_input": "2024-03-19T17:10:59.902661Z",
          "iopub.status.idle": "2024-03-19T18:05:03.452235Z",
          "shell.execute_reply.started": "2024-03-19T17:10:59.902634Z",
          "shell.execute_reply": "2024-03-19T18:05:03.451364Z"
        },
        "trusted": true,
        "id": "SEyrtZYH4c_D"
      },
      "execution_count": null,
      "outputs": []
    },
    {
      "cell_type": "code",
      "source": [
        "plt.figure(figsize=(15,10))\n",
        "\n",
        "plt.subplot(2,1,1)\n",
        "plt.plot(train_history.history['loss'])\n",
        "plt.plot(train_history.history['val_loss'], 'ro')\n",
        "plt.title('Loss')\n",
        "plt.grid(True)\n",
        "\n",
        "plt.subplot(2,1,2)\n",
        "plt.plot(train_history.history['accuracy'])\n",
        "plt.plot(train_history.history['val_accuracy'], 'ro')\n",
        "plt.title('Accuracy')\n",
        "plt.grid(True)"
      ],
      "metadata": {
        "execution": {
          "iopub.status.busy": "2024-03-19T18:10:04.656787Z",
          "iopub.execute_input": "2024-03-19T18:10:04.657478Z",
          "iopub.status.idle": "2024-03-19T18:10:05.166188Z",
          "shell.execute_reply.started": "2024-03-19T18:10:04.657447Z",
          "shell.execute_reply": "2024-03-19T18:10:05.165209Z"
        },
        "trusted": true,
        "id": "tHK6q1vj4c_D"
      },
      "execution_count": null,
      "outputs": []
    },
    {
      "cell_type": "markdown",
      "source": [
        "## 7| Model Evaluation <a class=\"anchor\" id=\"eval\"></a>"
      ],
      "metadata": {
        "id": "TGemIc6c4c_D"
      }
    },
    {
      "cell_type": "code",
      "source": [
        "# redefining the test generator so it doesnt shuffle\n",
        "test_generator = test_datagen.flow_from_directory(\n",
        "    test_dir,\n",
        "    target_size=(224, 224),\n",
        "    color_mode='rgb',\n",
        "    class_mode='categorical',\n",
        "    batch_size=32,\n",
        "    shuffle=False\n",
        ")\n",
        "\n",
        "true_labels = test_generator.classes\n",
        "preds = model.predict(test_generator, steps=len(test_generator))\n",
        "pred_labels = np.argmax(preds, axis=1)\n",
        "classes=list(test_generator.class_indices.keys())"
      ],
      "metadata": {
        "execution": {
          "iopub.status.busy": "2024-03-19T18:11:31.756631Z",
          "iopub.execute_input": "2024-03-19T18:11:31.75736Z",
          "iopub.status.idle": "2024-03-19T18:11:50.834237Z",
          "shell.execute_reply.started": "2024-03-19T18:11:31.75731Z",
          "shell.execute_reply": "2024-03-19T18:11:50.833326Z"
        },
        "trusted": true,
        "id": "JcuALsRW4c_D"
      },
      "execution_count": null,
      "outputs": []
    },
    {
      "cell_type": "code",
      "source": [
        "print(classification_report(true_labels, pred_labels))"
      ],
      "metadata": {
        "execution": {
          "iopub.status.busy": "2024-03-19T18:11:54.930213Z",
          "iopub.execute_input": "2024-03-19T18:11:54.930891Z",
          "iopub.status.idle": "2024-03-19T18:11:54.947555Z",
          "shell.execute_reply.started": "2024-03-19T18:11:54.930859Z",
          "shell.execute_reply": "2024-03-19T18:11:54.946517Z"
        },
        "trusted": true,
        "id": "osEiaQBi4c_D"
      },
      "execution_count": null,
      "outputs": []
    },
    {
      "cell_type": "code",
      "source": [
        "cm = confusion_matrix(true_labels, pred_labels)\n",
        "\n",
        "plt.figure(figsize=(8,6))\n",
        "sns.heatmap(cm, annot=True, fmt=\"d\", cmap=\"magma\", xticklabels=classes, yticklabels=classes)\n",
        "plt.ylabel('True label')\n",
        "plt.xlabel('Predicted label')\n",
        "plt.title('Confusion Matrix')"
      ],
      "metadata": {
        "execution": {
          "iopub.status.busy": "2024-03-19T18:12:02.461396Z",
          "iopub.execute_input": "2024-03-19T18:12:02.462198Z",
          "iopub.status.idle": "2024-03-19T18:12:02.971538Z",
          "shell.execute_reply.started": "2024-03-19T18:12:02.462164Z",
          "shell.execute_reply": "2024-03-19T18:12:02.970491Z"
        },
        "trusted": true,
        "id": "qzFTnvj44c_E"
      },
      "execution_count": null,
      "outputs": []
    },
    {
      "cell_type": "code",
      "source": [
        "y_encoded = pd.get_dummies(true_labels).astype(int).values\n",
        "preds_encoded = pd.get_dummies(pred_labels).astype(int).values\n",
        "\n",
        "fpr = dict()\n",
        "tpr = dict()\n",
        "roc_auc = dict()\n",
        "for i in range(7):\n",
        "    fpr[i], tpr[i], _ = roc_curve(y_encoded[:,i], preds_encoded[:,i])\n",
        "    roc_auc[i] = auc(fpr[i], tpr[i])\n",
        "\n",
        "plt.figure(figsize=(10,5))\n",
        "colors = ['#1f77b4', '#ff7f0e', '#2ca02c', '#d62728', '#9467bd', '#8c564b', '#e377c2']\n",
        "for i, color in enumerate(colors):\n",
        "    plt.plot(fpr[i], tpr[i], color=color, lw=2, label=f\"ROC curve for {classes[i]} (area = {roc_auc[i]:0.2f})\")\n",
        "\n",
        "plt.plot([0, 1], [0, 1], 'k--', lw=2)\n",
        "plt.xlim([0, 1])\n",
        "plt.ylim([0, 1])\n",
        "plt.xlabel('False Positive Rate')\n",
        "plt.ylabel('True Positive Rate')\n",
        "plt.title('ROC Curve')\n",
        "plt.legend(loc='lower right')"
      ],
      "metadata": {
        "execution": {
          "iopub.status.busy": "2024-03-19T18:12:22.871338Z",
          "iopub.execute_input": "2024-03-19T18:12:22.871699Z",
          "iopub.status.idle": "2024-03-19T18:12:23.282494Z",
          "shell.execute_reply.started": "2024-03-19T18:12:22.871671Z",
          "shell.execute_reply": "2024-03-19T18:12:23.281614Z"
        },
        "trusted": true,
        "id": "CnnZGOdC4c_E"
      },
      "execution_count": null,
      "outputs": []
    },
    {
      "cell_type": "code",
      "source": [
        "model.save('EmotionDetector.h5')"
      ],
      "metadata": {
        "trusted": true,
        "id": "2foBMOxi4c_E"
      },
      "execution_count": null,
      "outputs": []
    },
    {
      "cell_type": "markdown",
      "source": [
        "## Conclusion <a class=\"anchor\" id=\"con\"></a>\n",
        "\n",
        "The results are a little less that I hoped for, but that's okay. The main goal of this notebook was to test out transfer learning and it does indeed help a whole lot but picking the right network takes some trial and error. Overall, this project had been a fun experience.\n",
        "\n",
        "If you have any questions or recommendations feel free to comment, and I hope you found this notebook helpful."
      ],
      "metadata": {
        "id": "UIx-ixTm4c_E"
      }
    }
  ]
}